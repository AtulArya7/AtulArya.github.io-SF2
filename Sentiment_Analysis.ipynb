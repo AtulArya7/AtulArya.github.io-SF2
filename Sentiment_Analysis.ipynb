{
  "nbformat": 4,
  "nbformat_minor": 0,
  "metadata": {
    "colab": {
      "name": "Sentiment Analysis.ipynb",
      "provenance": [],
      "authorship_tag": "ABX9TyMQF/KAZARYpzD4Cx53l3UH",
      "include_colab_link": true
    },
    "kernelspec": {
      "name": "python3",
      "display_name": "Python 3"
    },
    "language_info": {
      "name": "python"
    }
  },
  "cells": [
    {
      "cell_type": "markdown",
      "metadata": {
        "id": "view-in-github",
        "colab_type": "text"
      },
      "source": [
        "<a href=\"https://colab.research.google.com/github/AtulArya7/AtulArya.github.io-SF2/blob/master/Sentiment_Analysis.ipynb\" target=\"_parent\"><img src=\"https://colab.research.google.com/assets/colab-badge.svg\" alt=\"Open In Colab\"/></a>"
      ]
    },
    {
      "cell_type": "markdown",
      "metadata": {
        "id": "H9efXQbOzthw"
      },
      "source": [
        "**Assignment 2 - Sentiment Analysis Using LSTM Model**\n",
        "\n",
        "*Build a LSTM model to detect sentiment (i.e. detect if a sentence is positive or negative) using \n",
        "PyTorch and TorchText. This will be done by using the provided IMDb dataset*\n",
        "\n",
        "**Name- Atul Arya**\n",
        "\n",
        "**Roll No.- 18HS20009**"
      ]
    },
    {
      "cell_type": "markdown",
      "metadata": {
        "id": "ireV4Vg0zt10"
      },
      "source": [
        "**Steps to follow:**\n",
        "1. Load in and visualize the data (0.5 point)\n",
        "2. Data Processing (1 point point)\n",
        "3. Splitting to train and test data (1 point)\n",
        "4. Analysing sentiment ( 0.5 point)\n",
        "5. Tockenization (1 point)\n",
        "6. Analysis of review length (0.5 point)\n",
        "7. Padding (0.5 point)\n",
        "8. Batching and loading as tensor (batch size =50) (1 point)\n",
        "9. Model Designing (2 point)\n",
        "10. Training (Calculate training lose and training accuracy) (2 point)\n"
      ]
    },
    {
      "cell_type": "code",
      "metadata": {
        "id": "rLcCSNlfYc9M"
      },
      "source": [
        "import numpy as np # linear algebra\n",
        "import pandas as pd # data processing, CSV file I/O (e.g. pd.read_csv)\n",
        "import torch\n",
        "import torch.nn as nn\n",
        "import torch.nn.functional as F\n",
        "from nltk.corpus import stopwords \n",
        "from collections import Counter\n",
        "import string\n",
        "import re\n",
        "import seaborn as sns\n",
        "from tqdm import tqdm\n",
        "import matplotlib.pyplot as plt\n",
        "from torch.utils.data import TensorDataset, DataLoader\n",
        "from sklearn.model_selection import train_test_split"
      ],
      "execution_count": 1,
      "outputs": []
    },
    {
      "cell_type": "code",
      "metadata": {
        "colab": {
          "base_uri": "https://localhost:8080/"
        },
        "id": "MEPtmElvYfi8",
        "outputId": "c05e2a5a-bee3-46bb-e241-de38da8e0330"
      },
      "source": [
        "is_cuda = torch.cuda.is_available()\n",
        "\n",
        "# If we have a GPU available, we'll set our device to GPU. We'll use this device variable later in our code.\n",
        "if is_cuda:\n",
        "    device = torch.device(\"cuda\")\n",
        "    print(\"GPU is available\")\n",
        "else:\n",
        "    device = torch.device(\"cpu\")\n",
        "    print(\"GPU not available, CPU used\")"
      ],
      "execution_count": 2,
      "outputs": [
        {
          "output_type": "stream",
          "text": [
            "GPU not available, CPU used\n"
          ],
          "name": "stdout"
        }
      ]
    },
    {
      "cell_type": "markdown",
      "metadata": {
        "id": "VamQnOtN4pTG"
      },
      "source": [
        "**1. Load in and visualize the data**"
      ]
    },
    {
      "cell_type": "code",
      "metadata": {
        "colab": {
          "resources": {
            "http://localhost:8080/nbextensions/google.colab/files.js": {
              "data": "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",
              "ok": true,
              "headers": [
                [
                  "content-type",
                  "application/javascript"
                ]
              ],
              "status": 200,
              "status_text": ""
            }
          },
          "base_uri": "https://localhost:8080/",
          "height": 90
        },
        "id": "5XtlttdMYhQb",
        "outputId": "d6c02e06-765d-48bc-a221-f8e08578af33"
      },
      "source": [
        "from google.colab import files\n",
        "uploaded = files.upload()"
      ],
      "execution_count": 3,
      "outputs": [
        {
          "output_type": "display_data",
          "data": {
            "text/html": [
              "\n",
              "     <input type=\"file\" id=\"files-d2b60f42-f6ca-434b-a25a-526dc07b373b\" name=\"files[]\" multiple disabled\n",
              "        style=\"border:none\" />\n",
              "     <output id=\"result-d2b60f42-f6ca-434b-a25a-526dc07b373b\">\n",
              "      Upload widget is only available when the cell has been executed in the\n",
              "      current browser session. Please rerun this cell to enable.\n",
              "      </output>\n",
              "      <script src=\"/nbextensions/google.colab/files.js\"></script> "
            ],
            "text/plain": [
              "<IPython.core.display.HTML object>"
            ]
          },
          "metadata": {
            "tags": []
          }
        },
        {
          "output_type": "stream",
          "text": [
            "Saving IMDB Dataset.csv to IMDB Dataset.csv\n"
          ],
          "name": "stdout"
        }
      ]
    },
    {
      "cell_type": "code",
      "metadata": {
        "id": "Vi9VkwSCYmLA"
      },
      "source": [
        "import io\n",
        "data = io.BytesIO(uploaded['IMDB Dataset.csv'])"
      ],
      "execution_count": 4,
      "outputs": []
    },
    {
      "cell_type": "code",
      "metadata": {
        "id": "DgFJNi9Weihj"
      },
      "source": [
        "import io  \n",
        "data = io.BytesIO(uploaded['IMDB Dataset.csv'])"
      ],
      "execution_count": 5,
      "outputs": []
    },
    {
      "cell_type": "code",
      "metadata": {
        "colab": {
          "base_uri": "https://localhost:8080/",
          "height": 195
        },
        "id": "-OJChvkCenbp",
        "outputId": "06a89ffc-dd30-4c6f-db5b-f4e721cfba9c"
      },
      "source": [
        "df = pd.read_csv(data)\n",
        "df.head()"
      ],
      "execution_count": 6,
      "outputs": [
        {
          "output_type": "execute_result",
          "data": {
            "text/html": [
              "<div>\n",
              "<style scoped>\n",
              "    .dataframe tbody tr th:only-of-type {\n",
              "        vertical-align: middle;\n",
              "    }\n",
              "\n",
              "    .dataframe tbody tr th {\n",
              "        vertical-align: top;\n",
              "    }\n",
              "\n",
              "    .dataframe thead th {\n",
              "        text-align: right;\n",
              "    }\n",
              "</style>\n",
              "<table border=\"1\" class=\"dataframe\">\n",
              "  <thead>\n",
              "    <tr style=\"text-align: right;\">\n",
              "      <th></th>\n",
              "      <th>review</th>\n",
              "      <th>sentiment</th>\n",
              "    </tr>\n",
              "  </thead>\n",
              "  <tbody>\n",
              "    <tr>\n",
              "      <th>0</th>\n",
              "      <td>One of the other reviewers has mentioned that ...</td>\n",
              "      <td>positive</td>\n",
              "    </tr>\n",
              "    <tr>\n",
              "      <th>1</th>\n",
              "      <td>A wonderful little production. &lt;br /&gt;&lt;br /&gt;The...</td>\n",
              "      <td>positive</td>\n",
              "    </tr>\n",
              "    <tr>\n",
              "      <th>2</th>\n",
              "      <td>I thought this was a wonderful way to spend ti...</td>\n",
              "      <td>positive</td>\n",
              "    </tr>\n",
              "    <tr>\n",
              "      <th>3</th>\n",
              "      <td>Basically there's a family where a little boy ...</td>\n",
              "      <td>negative</td>\n",
              "    </tr>\n",
              "    <tr>\n",
              "      <th>4</th>\n",
              "      <td>Petter Mattei's \"Love in the Time of Money\" is...</td>\n",
              "      <td>positive</td>\n",
              "    </tr>\n",
              "  </tbody>\n",
              "</table>\n",
              "</div>"
            ],
            "text/plain": [
              "                                              review sentiment\n",
              "0  One of the other reviewers has mentioned that ...  positive\n",
              "1  A wonderful little production. <br /><br />The...  positive\n",
              "2  I thought this was a wonderful way to spend ti...  positive\n",
              "3  Basically there's a family where a little boy ...  negative\n",
              "4  Petter Mattei's \"Love in the Time of Money\" is...  positive"
            ]
          },
          "metadata": {
            "tags": []
          },
          "execution_count": 6
        }
      ]
    },
    {
      "cell_type": "code",
      "metadata": {
        "colab": {
          "base_uri": "https://localhost:8080/",
          "height": 166
        },
        "id": "HMOBzfa9evbj",
        "outputId": "358a82ec-8626-4732-f783-cf20e9505ef2"
      },
      "source": [
        "df.describe()"
      ],
      "execution_count": 7,
      "outputs": [
        {
          "output_type": "execute_result",
          "data": {
            "text/html": [
              "<div>\n",
              "<style scoped>\n",
              "    .dataframe tbody tr th:only-of-type {\n",
              "        vertical-align: middle;\n",
              "    }\n",
              "\n",
              "    .dataframe tbody tr th {\n",
              "        vertical-align: top;\n",
              "    }\n",
              "\n",
              "    .dataframe thead th {\n",
              "        text-align: right;\n",
              "    }\n",
              "</style>\n",
              "<table border=\"1\" class=\"dataframe\">\n",
              "  <thead>\n",
              "    <tr style=\"text-align: right;\">\n",
              "      <th></th>\n",
              "      <th>review</th>\n",
              "      <th>sentiment</th>\n",
              "    </tr>\n",
              "  </thead>\n",
              "  <tbody>\n",
              "    <tr>\n",
              "      <th>count</th>\n",
              "      <td>50000</td>\n",
              "      <td>50000</td>\n",
              "    </tr>\n",
              "    <tr>\n",
              "      <th>unique</th>\n",
              "      <td>49582</td>\n",
              "      <td>2</td>\n",
              "    </tr>\n",
              "    <tr>\n",
              "      <th>top</th>\n",
              "      <td>Loved today's show!!! It was a variety and not...</td>\n",
              "      <td>negative</td>\n",
              "    </tr>\n",
              "    <tr>\n",
              "      <th>freq</th>\n",
              "      <td>5</td>\n",
              "      <td>25000</td>\n",
              "    </tr>\n",
              "  </tbody>\n",
              "</table>\n",
              "</div>"
            ],
            "text/plain": [
              "                                                   review sentiment\n",
              "count                                               50000     50000\n",
              "unique                                              49582         2\n",
              "top     Loved today's show!!! It was a variety and not...  negative\n",
              "freq                                                    5     25000"
            ]
          },
          "metadata": {
            "tags": []
          },
          "execution_count": 7
        }
      ]
    },
    {
      "cell_type": "code",
      "metadata": {
        "colab": {
          "base_uri": "https://localhost:8080/"
        },
        "id": "ezubaXrqeyGx",
        "outputId": "5a83ff80-292f-4da0-c15a-e40a383981e6"
      },
      "source": [
        "df.info()"
      ],
      "execution_count": 8,
      "outputs": [
        {
          "output_type": "stream",
          "text": [
            "<class 'pandas.core.frame.DataFrame'>\n",
            "RangeIndex: 50000 entries, 0 to 49999\n",
            "Data columns (total 2 columns):\n",
            " #   Column     Non-Null Count  Dtype \n",
            "---  ------     --------------  ----- \n",
            " 0   review     50000 non-null  object\n",
            " 1   sentiment  50000 non-null  object\n",
            "dtypes: object(2)\n",
            "memory usage: 781.4+ KB\n"
          ],
          "name": "stdout"
        }
      ]
    },
    {
      "cell_type": "markdown",
      "metadata": {
        "id": "teRRsLLm42Hk"
      },
      "source": [
        "**2. Data Processing**"
      ]
    },
    {
      "cell_type": "code",
      "metadata": {
        "id": "jwWgrqzif13b"
      },
      "source": [
        "import re\n",
        "from collections import Counter\n",
        "from string import punctuation\n",
        "\n",
        "def preprocess_string(s):\n",
        "    # Remove all non-word characters (everything except numbers and letters)\n",
        "    s = re.sub(r\"[^\\w\\s]\", '', s)\n",
        "    # Replace all runs of whitespaces with no space\n",
        "    s = re.sub(r\"\\s+\", '', s)\n",
        "    # replace digits with no space\n",
        "    s = re.sub(r\"\\d\", '', s)\n",
        "\n",
        "    return s\n",
        "\n",
        "def onehot(X_train):\n",
        "  # Conversion of word into the binary values.\n",
        "  universe = []\n",
        "  \n",
        "  for sentence in X_train:\n",
        "    for word in sentence.lower().split():\n",
        "        word = preprocess_string(word)\n",
        "        if word not in punctuation:\n",
        "            universe.append(word)\n",
        "\n",
        "  corpus = Counter(universe)\n",
        "  # sorting on the basis of most common words\n",
        "  corpus_sorted = sorted(corpus,key=corpus.get,reverse=True)[:1000]\n",
        "  # creating a vocabulary\n",
        "  vocab = {w:i+1 for i,w in enumerate(corpus_sorted)}\n",
        "  return vocab"
      ],
      "execution_count": 16,
      "outputs": []
    },
    {
      "cell_type": "markdown",
      "metadata": {
        "id": "CuHX0fQw4wCF"
      },
      "source": [
        "**3. Splitting to train and test data**\n",
        "\n",
        "We will split data to train and test initially.Doing this on earlier stage allows to avoid data lekage."
      ]
    },
    {
      "cell_type": "code",
      "metadata": {
        "colab": {
          "base_uri": "https://localhost:8080/"
        },
        "id": "VyNx_EPyezyx",
        "outputId": "b7e15067-da39-49dd-b76a-2671be955604"
      },
      "source": [
        "from sklearn.model_selection import train_test_split\n",
        "\n",
        "X,y = df.review.values,df.sentiment.values\n",
        "X_train, X_test, y_train, y_test = train_test_split(X,y)\n",
        "# Check the shape of datasets\n",
        "print(\"Train_shape:\", X_train.shape)\n",
        "print(\"Test_shape:\", X_test.shape)"
      ],
      "execution_count": 12,
      "outputs": [
        {
          "output_type": "stream",
          "text": [
            "Train_shape: (37500,)\n",
            "Test_shape: (12500,)\n"
          ],
          "name": "stdout"
        }
      ]
    },
    {
      "cell_type": "code",
      "metadata": {
        "colab": {
          "base_uri": "https://localhost:8080/"
        },
        "id": "FBiwoa48fWNX",
        "outputId": "e19f7dde-c375-4b3a-b7ec-bcf4f4cd0f2a"
      },
      "source": [
        "X_train"
      ],
      "execution_count": 13,
      "outputs": [
        {
          "output_type": "execute_result",
          "data": {
            "text/plain": [
              "array([\"Just watched this on DVD three times - Once the 'normal' way, once with the scenes in consecutive order (in this doozy of a film noir, the beginning, middle and end of the story intertwine), and once with the director's commentary running. Quite amazing. A bare-bones tale, told with more flair, energy and substance than most big-budget overblown features being released today. <br /><br />I think this is an even more accomplished film than the subsequent Memento, which turned me on to Nolan in the first place. Can't wait to see what he does with a bigger budget (and bigger box-office stars) in his next film, Insomnia.\",\n",
              "       'Fairly good movie, but not a true story.<br /><br />Rubin \"Hurricane\" Carter was a notorius liar, a murder and was never found not guilty. New Jersey State just didn\\'t go for it a third time as 20 years had gone. Carter got an offer in 1976: \"Pass a lie test and go free\". He didn\\'t take it. This film should never have been made, but money talks. A lot of people have unjustly spend their lives in prison and undoubtedly more blacks than white. Why choose a fake story?<br /><br />Jens',\n",
              "       'To heighten the drama of this sudsy maternity ward story, it\\'s set in a special ward for \"difficult cases.\" The main story is Loretta Young\\'s; she\\'s on leave from a long prison stretch for murder. Will the doctors save her baby at the cost of her life, or heed her husband\\'s plea for the opposite? Melodrama and sentiment are dominant, and they\\'re not the honest sort, to say the least. For example, just to keep things moving, this hospital has a psycho ward next door to the maternity ward, and lets a woman with a hysterical pregnancy wander about stealing babies.<br /><br />There are just enough laughs and sarcasm for this to be recognizable as a Warners film, mostly from Glenda Farrell, who swigs gin from her hot-water bottle while she waits to have twins that, to her chagrin, she finds there\\'s now a law against selling. An example of her repartee: \"Be careful.\" Farrell: \"It\\'s too late to be careful.\" Aline MacMahon is of course wonderfully authoritative as the chief nurse, but don\\'t expect her to be given a dramatic moment.<br /><br />The main theme of the film is that the sight of a baby turns anyone to mush. Even given the obvious limitations, this film should have been better than it is.',\n",
              "       ...,\n",
              "       'The (DVD)movie \"The Tempest\", directed by Jack Bender, was published in 2001. It didn\\'t make its way to German cinemas and neither the director or an actor were able to receive an important award for this movie. The movie refers to the Shakespearean play \"The Tempest\" which was published at the end of the 16th century. The director tried to create an modern version of this play, but failed. At the beginning of the movie the plantation owner Prosper gets in a conflict with his brother Antonio about the treatment of their slaves. Antonio sets his brother a trip and tries to kill him but with the help of a witch, Prosper is able to escape and flees with his daughter and a slave called Ariel to a small island nearby the Mississippi river. For over twelve years he has lived isolated on this island, till a lucky chance enables him to take revenge on his brother....If Prosper will be lucky you have to find out by yourself.<br /><br />In my opinion this film is really a bad try to create a modern version of the original play by William Shakespeare. The story of the movie is confusing as well as the characters. Prosper doesn\\'t have the same powers as in the tempest..... END OF PART I',\n",
              "       'Mike Brady (Michael Garfield who had a minuscule part in the classic \"The Warriors\") is the first person in the community to realize that there\\'s murderous slugs in his small town. Not just any slugs, mind you, but carnivorous killer bigger then normal, mutated by toxic waste slugs (who still only go as fast as a normal slug, which isn\\'t that frightening, but I digress). No one will believe him at first, but they will. Oh yes, they will.<br /><br />OK, killer slugs are right above psychotic sloths and right below Johnathon Winters as Mork\\'s baby in the creepiness factor. So the absurdness of it all is quite apparent from the get go. The flick is fun somewhat through and is of the \\'so bad that it\\'s good\\' variety. I appreciate that they spelled out that this was Slugs: the Movie as opposed to Slugs: the Children\\'s Game or Slugs: the Other White Meat. Probably not worthy of watching it more than once and promptly forgetting it except for playing a rather obscure trivia game. Director Juan Piquer Simón is more widely known for his previous films \"Pod People\" (which MST3K deservedly mocked) and \"Peices\" (which is quite possibly the funnest bad movie ever made) <br /><br />Eye Candy: Kari Rose shows T&A <br /><br />My Grade: D+ <br /><br />DVD Extras: Merely a theatrical trailer for this movie',\n",
              "       'If your idea of a thriller is car chases, explosions, and dozens of people being mowed down by gunfire, then \"House of Games\" is definitely not the movie for you. If you like and appreciate psychological drama and suspense, then, by all means, see it.<br /><br />\"House of Games\" tells the story of an esteemed psychologist and writer, Dr. Margaret Ford (Lindsay Crouse), who tries to help a patient and gets involved in the shadowy world of con men led by the charismatic Mike (Joe Mantegna). To say anything more about the plot would ruin the suspense. Frankly, I find it hard to believe anyone who says they saw the twists coming. Just like a clever con artist, this movie draws you into its web and lulls your vigilance.<br /><br />The story is taut and well-crafted, the dialogue smart and laconic, the acting uniformly good (Mantegna is superbly charismatic). Some have complained that Dr. Ford is not a very sympathetic character, and wondered why Mamet would make Lindsay Crouse look so physically unattractive. But Dr. Ford is supposed to be cold and aloof; moreover, her homeliness is in a way essential to the plot (at one point, I believe that an injury to her sexual self-esteem is a key part of her motivation ... I\\'ll say no more).<br /><br />\"House of Games\" is a dark look at the underside of human nature that concludes on a note of discomforting ambiguity. It will hold your attention every second while you are watching, and stay with you for a long time afterwards.'],\n",
              "      dtype=object)"
            ]
          },
          "metadata": {
            "tags": []
          },
          "execution_count": 13
        }
      ]
    },
    {
      "cell_type": "code",
      "metadata": {
        "colab": {
          "base_uri": "https://localhost:8080/"
        },
        "id": "oGXUpbsofpgc",
        "outputId": "e162cc55-afd9-480d-fd53-9c3c990aecc0"
      },
      "source": [
        "y_train"
      ],
      "execution_count": 15,
      "outputs": [
        {
          "output_type": "execute_result",
          "data": {
            "text/plain": [
              "array(['positive', 'negative', 'negative', ..., 'negative', 'negative',\n",
              "       'positive'], dtype=object)"
            ]
          },
          "metadata": {
            "tags": []
          },
          "execution_count": 15
        }
      ]
    },
    {
      "cell_type": "markdown",
      "metadata": {
        "id": "RbVm1PPM5Bzy"
      },
      "source": [
        "**4. Analysing of sentiment**"
      ]
    },
    {
      "cell_type": "code",
      "metadata": {
        "colab": {
          "base_uri": "https://localhost:8080/",
          "height": 268
        },
        "id": "VtkeKUFNg9bm",
        "outputId": "ea1d6fbc-4b5a-4825-a107-457436229bbe"
      },
      "source": [
        "import numpy as np \n",
        "import seaborn as sns\n",
        "import matplotlib.pyplot as plt\n",
        "\n",
        "sns.set()\n",
        "# Representaion of sentiments into bar gaph\n",
        "count = pd.Series(y_train).value_counts()\n",
        "x_labels=np.array(['negative','positive'])\n",
        "sns.barplot(x=x_labels,y=count.values)\n",
        "plt.show()"
      ],
      "execution_count": 23,
      "outputs": [
        {
          "output_type": "display_data",
          "data": {
            "image/png": "[encoded data removed]",
            "text/plain": [
              "<Figure size 432x288 with 1 Axes>"
            ]
          },
          "metadata": {
            "tags": []
          }
        }
      ]
    },
    {
      "cell_type": "code",
      "metadata": {
        "colab": {
          "base_uri": "https://localhost:8080/"
        },
        "id": "nR5SSM2Mf7X6",
        "outputId": "59e38603-065b-4ab1-d12a-5daf3a5d2545"
      },
      "source": [
        "vocab=onehot(X_train)\n",
        "len(vocab)"
      ],
      "execution_count": 17,
      "outputs": [
        {
          "output_type": "execute_result",
          "data": {
            "text/plain": [
              "1000"
            ]
          },
          "metadata": {
            "tags": []
          },
          "execution_count": 17
        }
      ]
    },
    {
      "cell_type": "markdown",
      "metadata": {
        "id": "jYFfVmi9467U"
      },
      "source": [
        "**5. Tokenization**"
      ]
    },
    {
      "cell_type": "code",
      "metadata": {
        "colab": {
          "base_uri": "https://localhost:8080/"
        },
        "id": "Cl2qfPd-f_VN",
        "outputId": "a1d7081d-e075-4a6e-96ba-22b46fd05758"
      },
      "source": [
        "def tokenize(X_train,y_train,X_test,y_test):\n",
        "  final_train, final_test = [],[]\n",
        "  for sentence in X_train:\n",
        "          final_train.append([vocab[preprocess_string(word)] \n",
        "                              for word in sentence.lower().split() \n",
        "                              if preprocess_string(word) in vocab.keys()])\n",
        "  for sentence in X_test:\n",
        "          final_test.append([vocab[preprocess_string(word)] \n",
        "                              for word in sentence.lower().split() \n",
        "                              if preprocess_string(word) in vocab.keys()])\n",
        "          \n",
        "  encoded_train = [1 if label =='positive' else 0 for label in y_train]  \n",
        "  encoded_test = [1 if label =='positive' else 0 for label in y_test] \n",
        "  return (np.array(final_train), \n",
        "          np.array(encoded_train), \n",
        "          np.array(final_test), \n",
        "          np.array(encoded_test))\n",
        "\n",
        "X_train,y_train,X_test,y_test = tokenize(X_train,y_train,X_test,y_test)"
      ],
      "execution_count": 18,
      "outputs": [
        {
          "output_type": "stream",
          "text": [
            "/usr/local/lib/python3.7/dist-packages/ipykernel_launcher.py:14: VisibleDeprecationWarning: Creating an ndarray from ragged nested sequences (which is a list-or-tuple of lists-or-tuples-or ndarrays with different lengths or shapes) is deprecated. If you meant to do this, you must specify 'dtype=object' when creating the ndarray\n",
            "  \n",
            "/usr/local/lib/python3.7/dist-packages/ipykernel_launcher.py:16: VisibleDeprecationWarning: Creating an ndarray from ragged nested sequences (which is a list-or-tuple of lists-or-tuples-or ndarrays with different lengths or shapes) is deprecated. If you meant to do this, you must specify 'dtype=object' when creating the ndarray\n",
            "  app.launch_new_instance()\n"
          ],
          "name": "stderr"
        }
      ]
    },
    {
      "cell_type": "code",
      "metadata": {
        "colab": {
          "base_uri": "https://localhost:8080/"
        },
        "id": "44dNFg6DgIQZ",
        "outputId": "d3f3f12a-4477-41d6-d8a5-7fbbb293e61e"
      },
      "source": [
        "X_train"
      ],
      "execution_count": 19,
      "outputs": [
        {
          "output_type": "execute_result",
          "data": {
            "text/plain": [
              "array([list([39, 282, 10, 20, 267, 277, 210, 275, 1, 98, 275, 15, 1, 133, 7, 619, 7, 10, 4, 3, 19, 1, 442, 742, 2, 130, 4, 1, 67, 2, 275, 15, 1, 693, 614, 179, 477, 3, 802, 541, 15, 51, 2, 70, 86, 873, 106, 609, 644, 12, 12, 9, 102, 10, 6, 33, 54, 51, 19, 70, 1, 62, 670, 69, 20, 5, 7, 1, 87, 274, 172, 857, 5, 64, 48, 27, 121, 15, 3, 396, 2, 401, 7, 24, 355, 19]),\n",
              "       list([951, 49, 17, 18, 21, 3, 286, 12, 13, 3, 3, 595, 2, 13, 108, 249, 21, 161, 39, 150, 138, 16, 8, 3, 859, 59, 14, 151, 66, 754, 182, 33, 7, 3, 2, 138, 936, 27, 150, 185, 8, 10, 19, 139, 108, 25, 75, 92, 18, 289, 3, 165, 4, 84, 25, 63, 470, 7, 2, 51, 70, 472, 132, 3, 12]),\n",
              "       list([5, 1, 475, 4, 10, 67, 29, 284, 7, 3, 298, 16, 866, 1, 272, 67, 6, 437, 20, 547, 35, 3, 204, 16, 595, 76, 1, 550, 42, 972, 30, 1, 4, 42, 120, 40, 42, 16, 1, 2, 23, 2, 483, 21, 1, 427, 5, 128, 1, 218, 16, 464, 39, 5, 372, 178, 731, 10, 44, 3, 355, 5, 1, 2, 600, 3, 252, 15, 3, 41, 12, 47, 23, 39, 191, 913, 2, 16, 10, 5, 26, 14, 3, 19, 646, 35, 36, 35, 42, 135, 58, 5, 25, 11, 5, 42, 58, 656, 214, 148, 3, 429, 33, 464, 4, 42, 26, 29, 100, 522, 5, 26, 6, 4, 257, 14, 1, 18, 88, 513, 42, 5, 26, 338, 3, 965, 12, 1, 272, 749, 4, 1, 19, 6, 11, 1, 4, 3, 972, 495, 245, 5, 54, 338, 1, 586, 10, 19, 139, 25, 75, 123, 70, 8, 6]),\n",
              "       ...,\n",
              "       list([1, 1, 507, 32, 690, 13, 7, 8, 150, 94, 29, 98, 5, 993, 2, 1, 173, 40, 33, 294, 65, 466, 5, 33, 652, 16, 10, 17, 1, 17, 5, 1, 290, 1, 62, 13, 30, 1, 130, 4, 1, 800, 1, 173, 741, 5, 985, 33, 688, 311, 4, 10, 290, 18, 30, 1, 442, 4, 1, 17, 1, 207, 7, 3, 15, 24, 650, 41, 1, 4, 63, 700, 24, 650, 3, 2, 486, 5, 488, 89, 18, 15, 1, 329, 4, 3, 6, 466, 5, 1000, 2, 15, 24, 567, 2, 3, 463, 5, 3, 397, 934, 1, 16, 126, 151, 27, 44, 20, 10, 934, 3, 566, 89, 5, 185, 20, 24, 76, 26, 22, 25, 5, 158, 45, 32, 12, 7, 53, 639, 10, 19, 6, 61, 3, 83, 343, 5, 985, 3, 688, 311, 4, 1, 205, 290, 32, 979, 1, 67, 4, 1, 17, 6, 14, 72, 14, 1, 101, 147, 25, 1, 164, 14, 7, 1, 130, 4, 171, 9]),\n",
              "       list([493, 36, 66, 3, 171, 7, 1, 351, 1, 6, 1, 87, 405, 7, 1, 5, 922, 11, 214, 7, 24, 397, 512, 21, 39, 97, 339, 22, 18, 489, 90, 32, 443, 36, 125, 60, 138, 14, 836, 14, 3, 62, 201, 11, 18, 9, 55, 28, 76, 254, 89, 30, 87, 18, 34, 76, 450, 424, 34, 12, 578, 489, 23, 206, 721, 2, 206, 14, 972, 7, 1, 37, 1, 4, 8, 31, 6, 179, 35, 1, 74, 138, 1, 500, 6, 248, 632, 141, 2, 6, 4, 1, 37, 83, 11, 29, 49, 9, 11, 34, 45, 11, 10, 13, 1, 17, 14, 5, 1, 478, 40, 1, 77, 472, 235, 21, 4, 144, 8, 51, 70, 275, 2, 8, 537, 16, 384, 3, 241, 478, 173, 6, 51, 585, 16, 24, 864, 93, 84, 62, 2, 62, 6, 179, 852, 1, 83, 17, 119, 92, 12, 12, 845, 258, 12, 12, 53, 12, 12, 267, 3, 16, 10, 17]),\n",
              "       list([43, 122, 313, 4, 3, 757, 6, 499, 2, 4, 84, 106, 188, 32, 90, 327, 4, 6, 386, 21, 1, 17, 16, 22, 43, 22, 38, 2, 475, 2, 773, 90, 32, 31, 777, 64, 557, 12, 327, 4, 694, 1, 67, 4, 33, 2, 796, 795, 36, 486, 5, 329, 3, 2, 207, 556, 7, 1, 187, 4, 342, 32, 1, 950, 5, 128, 225, 51, 41, 1, 116, 57, 1, 773, 9, 158, 8, 263, 5, 254, 245, 36, 511, 34, 202, 1, 564, 39, 38, 3, 10, 17, 22, 82, 29, 2, 122, 12, 1, 67, 6, 2, 1, 402, 2, 1, 113, 49, 6, 46, 25, 11, 795, 6, 21, 3, 52, 109, 2, 132, 57, 94, 160, 37, 18, 795, 6, 417, 5, 26, 2, 42, 6, 7, 3, 98, 5, 1, 116, 30, 28, 222, 9, 254, 11, 33, 5, 42, 874, 6, 3, 171, 4, 42, 528, 128, 55, 12, 327, 4, 6, 3, 448, 160, 30, 1, 4, 394, 940, 11, 20, 3, 901, 4, 8, 76, 122, 672, 166, 326, 135, 22, 23, 144, 2, 780, 15, 22, 16, 3, 204, 59])],\n",
              "      dtype=object)"
            ]
          },
          "metadata": {
            "tags": []
          },
          "execution_count": 19
        }
      ]
    },
    {
      "cell_type": "code",
      "metadata": {
        "colab": {
          "base_uri": "https://localhost:8080/"
        },
        "id": "YO_Qc8kOgL8a",
        "outputId": "bd7aa8e7-7a12-4a1a-a580-9cf5cdf570fd"
      },
      "source": [
        "X_test"
      ],
      "execution_count": 20,
      "outputs": [
        {
          "output_type": "execute_result",
          "data": {
            "text/plain": [
              "array([list([7, 4, 167, 32, 1, 706, 149, 2, 33, 228, 32, 10, 19, 35, 3, 1, 555, 4, 4, 1, 28, 4, 1, 101, 766, 109, 14, 3, 114, 2, 469, 10, 89, 56, 923, 47, 6, 159, 41, 89, 40, 24, 238, 5, 94, 8, 11, 24, 2, 57, 37, 73, 59, 2, 867, 768, 20, 89, 27, 6, 2, 627, 1, 171, 463, 16, 33, 294, 36, 68, 94, 22, 112, 89, 54, 50, 27, 6, 106, 3, 3, 16, 12, 31, 4, 1, 20, 1, 807, 544, 13, 5, 10, 2, 238, 31, 9, 438, 5, 81, 13, 89, 2, 360, 89, 5, 74, 126, 307]),\n",
              "       list([1, 933, 6, 3, 17, 7, 15, 608, 8, 6, 3, 354, 2, 27, 121, 94, 3, 298, 255, 8, 6, 21, 16, 142, 11, 408, 2, 1, 77, 356, 27, 44, 411, 585, 16, 10, 19, 6, 3, 165, 51, 298, 70, 12, 8, 13, 463, 1, 933, 18, 14, 3, 52, 658, 463, 1, 2, 517, 1, 107, 953, 584, 1, 413, 13, 5, 7, 20, 63, 12, 1, 19, 76, 5, 277, 4, 305, 142, 36, 112, 93, 142, 36, 112, 93, 2, 142, 36, 1, 93, 356, 12, 1, 820, 16, 1, 19, 6, 11, 23, 41, 2, 3, 928, 5, 95, 188, 157, 71, 31, 411, 16, 1, 10, 167, 6, 45, 32, 46, 36, 3, 114, 576, 5, 195, 95, 1, 34, 344, 72, 8, 213, 26, 167, 178, 23, 162, 177, 73, 16, 1, 257, 348, 3, 579, 656, 45, 11, 27, 43, 27, 3, 284, 4, 32, 31, 1, 90, 27, 68, 181, 7, 544, 2, 50, 119, 27, 474, 5, 5, 128, 20, 1, 116, 57, 1, 4, 144, 1, 735, 12, 1, 4, 28, 2, 1, 831, 4, 152, 8, 6, 1, 11, 61, 94, 1, 19, 15, 46, 4, 1, 2, 113, 162, 1, 538, 133, 34, 45, 23, 836, 2, 2, 72, 15, 3, 4, 2, 167, 5, 713, 1, 20, 1, 1, 23, 186, 179, 5, 103, 12, 1, 461, 6, 2, 1, 228, 6, 47, 23, 60, 178, 11, 369, 10, 19, 188, 1, 16, 1, 6, 179, 328, 183, 5, 26, 7, 1, 19, 39, 16, 1, 533, 4, 8, 2, 159, 5, 29, 2, 46, 4, 1, 209, 32, 1, 911, 6, 179, 854, 1, 550, 1, 262, 33, 5, 1, 19, 60, 249, 7, 93, 1, 115, 129, 16, 69, 13, 28, 4, 95, 60, 32, 42, 5, 42, 141, 10, 13, 3, 730, 12, 63, 23, 104, 77, 4, 7, 10, 19, 9, 579, 408, 1, 568, 15, 430, 2, 239, 278, 2, 8, 6, 1, 93, 104, 205, 2, 113, 11, 10, 35, 106, 3, 169, 2, 495, 8, 82, 3, 213, 64, 17]),\n",
              "       list([7, 609, 24, 19, 189, 659, 5, 1, 920, 4, 705, 4, 1, 364, 62, 66, 754, 32, 11, 387, 16, 29, 759, 8, 13, 5, 62, 79, 66, 1, 4, 1, 305, 102, 10, 13, 3, 723, 5, 1, 326, 17, 10, 749, 1, 326, 19, 62, 57, 25, 75, 463, 13, 90, 7, 1, 1, 205, 19, 11, 6, 13, 5, 10, 749, 1, 326, 19, 13, 90, 16, 29, 759, 23, 22, 956, 31, 10, 37, 43, 13, 90, 6, 24, 262, 4, 1, 364, 135, 10, 6, 60, 3, 10, 802, 4, 2, 3, 416, 121, 3, 12, 46, 4, 461, 7, 3, 19, 38, 10, 18, 1, 113, 2, 228, 23, 409, 29, 747, 6, 37, 877, 2, 8, 68, 55, 26, 3, 135, 214, 33, 591, 10, 230, 15, 168, 808, 6, 21, 3, 49, 313, 16, 46, 279, 9, 398, 577, 520, 4, 59, 4, 1, 1, 216, 59, 9, 13, 144, 10, 10, 6, 509, 21, 3, 49, 12, 135, 214, 159, 134, 5, 2, 20, 3, 81, 74, 3, 167, 45, 15, 3, 106, 82, 3, 348, 8, 576, 24, 628, 79, 64, 3, 559, 186, 23, 50, 3, 412, 6, 124, 87, 32, 28, 90, 3, 11, 45, 4, 3, 12, 10, 6, 509, 3, 56, 35, 564, 722, 151, 297, 151, 7, 759, 18, 199, 1, 8, 135, 211, 6, 2, 549, 13, 28, 4, 1, 115, 178, 41, 1, 17, 134, 23, 247, 45, 5, 48, 904, 38, 45, 16, 3, 663, 7, 1, 742, 4, 10, 71, 74, 33, 112, 612, 2, 2, 107, 36, 81, 265, 15, 2, 1, 586, 65, 45, 4, 5, 3, 6, 3, 829, 18, 110, 8, 79, 719, 188, 6, 7, 1, 523, 471, 40, 21, 205, 66, 349, 7, 845, 34, 61, 65, 137, 5, 32, 10, 769, 16, 1, 51, 342, 15, 3, 223, 4, 20, 63, 12, 12, 1, 124, 100, 104, 91, 5, 54, 26, 155, 135, 1, 340, 4, 1, 6, 3, 2, 673, 21, 1, 164, 787, 4, 2, 4, 1, 87, 10, 6, 5, 25, 1, 164, 12, 12, 8, 495, 45, 11, 154, 45, 20, 1, 99, 973, 39, 234, 1, 352, 744, 32, 140, 951, 244, 11, 54, 57, 25, 30, 1, 415, 129, 2, 37, 5, 1, 173, 16, 256, 1, 49, 281, 5, 547, 469, 189, 29, 24, 387, 175, 721, 1, 19, 413, 20, 37, 1, 4, 84, 76, 26, 309, 15, 1, 11, 10, 6, 3, 19, 141, 2, 141, 20, 11, 90, 29, 3, 625, 16, 89, 16, 10, 17, 48, 22, 782, 57, 14, 1, 246, 824, 4, 31, 11, 4, 106, 346]),\n",
              "       ...,\n",
              "       list([423, 20, 1, 507, 32, 2, 609, 7, 6, 38, 31, 4, 168, 93, 240, 8, 6, 2, 2, 4, 1, 94, 10, 3, 19, 5, 12, 1, 19, 15, 1, 664, 101, 2, 1, 116, 106, 14, 1, 881, 23, 125, 3, 5, 185, 170, 82, 24, 12, 581, 2, 23, 14, 1, 107, 322, 2, 27, 2, 181, 15, 373, 58, 2, 181, 15, 342, 34, 186, 23, 270, 5, 1, 944, 240, 328, 808, 6, 447, 2, 82, 10, 960, 3, 184, 252, 36, 719, 481, 99, 27, 56, 3, 2, 42, 607, 1, 28, 42, 100, 18, 42, 34, 905, 2, 18, 183, 5, 26, 423, 20, 1, 2, 8, 6, 21, 204, 157, 3, 36, 76, 25, 40, 55, 3, 1, 2, 1, 621, 212, 5, 12, 6, 39, 381, 14, 42, 115, 706, 535, 872, 58, 166, 129, 58, 6, 7, 6, 208, 39, 14, 49, 56, 1, 135, 125, 2, 2, 23, 3, 165, 51, 70, 142, 107, 240, 8, 6, 7, 15, 1, 101, 34, 12, 37, 682, 31, 10, 61, 41, 8, 72, 3, 165, 4, 178, 959, 4, 911, 2, 16, 28, 146, 15, 468, 1, 19, 901, 24, 114, 1, 2, 1, 5, 462, 183, 5, 26, 35, 3, 911, 92, 434, 32, 24, 16, 24, 16, 2, 24, 11, 24, 325, 6, 20, 15, 15, 31, 10, 125, 649, 56, 30, 1, 367, 130, 4, 512, 673, 38, 3, 12, 29, 41, 2, 256, 5, 369, 138, 4, 95, 1, 110, 2, 323, 5, 290, 50, 34, 65, 322, 6, 468, 1, 19, 2, 260, 604, 16, 1, 2, 4, 7, 33, 308, 129, 923, 124, 32, 32, 1, 2, 779, 174, 14, 3, 539, 15, 4, 11, 58, 76, 203, 26, 24, 251, 10, 6, 110, 3, 593, 867, 15, 1, 524, 36, 41, 162, 143, 5, 11, 298, 274, 7, 36, 30, 46, 222, 20, 3, 36, 438, 137, 34, 398, 25, 2, 230, 362, 4, 1, 19, 424, 27, 207, 55, 402, 7, 1, 230, 40, 37, 234, 60, 20, 85, 226, 212, 35, 1, 477]),\n",
              "       list([152, 710, 19, 15, 69, 694, 1, 67, 4, 107, 184, 373, 36, 212, 295, 5, 488, 2, 28, 4, 95, 6, 3, 336, 36, 35, 42, 99, 106, 2, 842, 42, 326, 28, 6, 3, 36, 42, 2, 42, 106, 316, 364, 99, 142, 34, 869, 30, 3, 1, 230, 1, 216, 146, 516, 34, 158, 3, 2, 212, 52, 563, 34, 342, 185, 181, 1, 676, 2, 25, 709, 4, 383, 175, 31, 41, 61, 71, 68, 64, 11, 34, 25, 55, 16, 63, 34, 54, 488, 3, 252, 16, 42, 289, 186, 23, 145, 401, 7, 11, 1, 17, 7, 107, 271, 760, 34, 160, 37, 7, 383, 133, 34, 172, 94, 1, 216, 19, 270, 144, 14, 5, 69, 1, 19, 121, 21, 55, 4, 113, 70, 11, 8, 6, 3, 311, 4, 2, 20, 3, 271, 681, 9, 96, 350, 22, 4, 178, 5, 81, 301, 4, 144, 37, 5, 103, 43, 22, 64, 3, 19, 45, 4]),\n",
              "       list([9, 112, 24, 428, 8, 6, 563, 56, 2, 450, 37, 836, 18, 8, 183, 38, 24, 91, 23, 51, 2, 51, 824, 444, 482, 2, 347, 196, 27, 13, 45, 5, 707, 3, 747, 30, 218, 46, 4, 1, 91, 66, 3, 40, 10, 28, 66, 46, 49, 4, 1, 109, 18, 1, 352, 13, 37, 226, 124, 9, 13, 52, 689, 1, 6, 79, 9, 227, 5, 64, 3, 51, 7, 24, 739, 93, 10, 17, 79, 7, 1, 67, 362, 162, 47, 23, 100, 104, 37, 1, 196, 6, 425, 100, 104, 178, 23, 199, 3])],\n",
              "      dtype=object)"
            ]
          },
          "metadata": {
            "tags": []
          },
          "execution_count": 20
        }
      ]
    },
    {
      "cell_type": "code",
      "metadata": {
        "colab": {
          "base_uri": "https://localhost:8080/"
        },
        "id": "Oc--inoKg2_R",
        "outputId": "3e8fd032-d387-4c9f-ed97-604a45dd4e71"
      },
      "source": [
        "y_train"
      ],
      "execution_count": 21,
      "outputs": [
        {
          "output_type": "execute_result",
          "data": {
            "text/plain": [
              "array([1, 0, 0, ..., 0, 0, 1])"
            ]
          },
          "metadata": {
            "tags": []
          },
          "execution_count": 21
        }
      ]
    },
    {
      "cell_type": "code",
      "metadata": {
        "colab": {
          "base_uri": "https://localhost:8080/"
        },
        "id": "UoFSqpIAg7eL",
        "outputId": "9d115b7f-f209-4b09-e9e8-30e0a6c240d1"
      },
      "source": [
        "y_test"
      ],
      "execution_count": 22,
      "outputs": [
        {
          "output_type": "execute_result",
          "data": {
            "text/plain": [
              "array([0, 1, 0, ..., 1, 0, 0])"
            ]
          },
          "metadata": {
            "tags": []
          },
          "execution_count": 22
        }
      ]
    },
    {
      "cell_type": "markdown",
      "metadata": {
        "id": "QrEZpKuf5ITC"
      },
      "source": [
        "**6. Analysis of review length**"
      ]
    },
    {
      "cell_type": "code",
      "metadata": {
        "colab": {
          "base_uri": "https://localhost:8080/"
        },
        "id": "IZlwO6chhATv",
        "outputId": "ed8446e5-762b-49b7-a135-e5d5590fc76b"
      },
      "source": [
        "rev_len = [len(i) for i in X_train]\n",
        "pd.Series(rev_len).describe()"
      ],
      "execution_count": 24,
      "outputs": [
        {
          "output_type": "execute_result",
          "data": {
            "text/plain": [
              "count    37500.000000\n",
              "mean       174.491813\n",
              "std        124.531409\n",
              "min          7.000000\n",
              "25%         98.000000\n",
              "50%        134.000000\n",
              "75%        211.000000\n",
              "max       1472.000000\n",
              "dtype: float64"
            ]
          },
          "metadata": {
            "tags": []
          },
          "execution_count": 24
        }
      ]
    },
    {
      "cell_type": "code",
      "metadata": {
        "colab": {
          "base_uri": "https://localhost:8080/",
          "height": 268
        },
        "id": "eYrxetJThDYe",
        "outputId": "d7a06ff9-55ca-420c-b9bd-a03d09911ad9"
      },
      "source": [
        "pd.Series(rev_len).hist()\n",
        "plt.show()"
      ],
      "execution_count": 25,
      "outputs": [
        {
          "output_type": "display_data",
          "data": {
            "image/png": "[encoded data removed]",
            "text/plain": [
              "<Figure size 432x288 with 1 Axes>"
            ]
          },
          "metadata": {
            "tags": []
          }
        }
      ]
    },
    {
      "cell_type": "markdown",
      "metadata": {
        "id": "apMDBTE65O3Y"
      },
      "source": [
        "**7. Padding**"
      ]
    },
    {
      "cell_type": "code",
      "metadata": {
        "colab": {
          "base_uri": "https://localhost:8080/"
        },
        "id": "xp_VSxNuhGVP",
        "outputId": "2f174e5c-f0e0-4603-f2bd-ecafd0b4b66f"
      },
      "source": [
        "\n",
        "pad_max=np.quantile(rev_len, 0.999)\n",
        "pad_max"
      ],
      "execution_count": 26,
      "outputs": [
        {
          "output_type": "execute_result",
          "data": {
            "text/plain": [
              "789.0019999999931"
            ]
          },
          "metadata": {
            "tags": []
          },
          "execution_count": 26
        }
      ]
    },
    {
      "cell_type": "markdown",
      "metadata": {
        "id": "-5tXLmD18GCd"
      },
      "source": [
        "99.9% of the reviews are within the word length of 789"
      ]
    },
    {
      "cell_type": "code",
      "metadata": {
        "id": "uc-wOLbrhIrp"
      },
      "source": [
        "def padding(sentences, seq_len):\n",
        "    features = np.zeros((len(sentences), seq_len),dtype=int)\n",
        "    for i, review in enumerate(sentences):\n",
        "        if len(review) != 0:\n",
        "            features[i, -len(review):] = np.array(review)[:seq_len]\n",
        "    return features"
      ],
      "execution_count": 27,
      "outputs": []
    },
    {
      "cell_type": "code",
      "metadata": {
        "id": "-O_bHZi9hL2J"
      },
      "source": [
        "# maximum padding length is 800 \n",
        "# since only 0.1% of the reviews are above this length\n",
        "X_train_pad = padding(X_train, 800)\n",
        "X_test_pad = padding(X_test, 800)"
      ],
      "execution_count": 29,
      "outputs": []
    },
    {
      "cell_type": "markdown",
      "metadata": {
        "id": "s2FsAsZx5WW4"
      },
      "source": [
        "**8. Batching and loading as tensor (batch size =50)**"
      ]
    },
    {
      "cell_type": "code",
      "metadata": {
        "id": "XcYWKGFLhOIb"
      },
      "source": [
        "import torch\n",
        "from torch.utils.data import TensorDataset, DataLoader\n",
        "\n",
        "# create Tensor datasets\n",
        "train_data = TensorDataset(torch.from_numpy(X_train_pad), torch.from_numpy(y_train))\n",
        "test_data = TensorDataset(torch.from_numpy(X_test_pad), torch.from_numpy(y_test))\n",
        "\n",
        "# dataloaders\n",
        "batch_size = 50\n",
        "\n",
        "# make sure to SHUFFLE your data\n",
        "train_loader = DataLoader(train_data, shuffle=True, batch_size=batch_size)\n",
        "test_loader = DataLoader(test_data, shuffle=True, batch_size=batch_size)"
      ],
      "execution_count": 30,
      "outputs": []
    },
    {
      "cell_type": "code",
      "metadata": {
        "colab": {
          "base_uri": "https://localhost:8080/"
        },
        "id": "AjvZca5jhTFs",
        "outputId": "cc5bd7c9-401c-4131-8388-8d1a4d24658d"
      },
      "source": [
        "# obtain one batch of training data\n",
        "dataiter = iter(train_loader)\n",
        "sample_X, sample_y = dataiter.next()\n",
        "\n",
        "print('Tensor size: ', sample_X.size()) # batch_size, seq_length\n",
        "print('Reviews: \\n', sample_X)\n",
        "print('Sentiments: \\n', sample_y)"
      ],
      "execution_count": 50,
      "outputs": [
        {
          "output_type": "stream",
          "text": [
            "Tensor size:  torch.Size([50, 800])\n",
            "Reviews: \n",
            " tensor([[  0,   0,   0,  ...,   7,   5,   2],\n",
            "        [  0,   0,   0,  ...,  15,   2,  14],\n",
            "        [  0,   0,   0,  ..., 165,  51, 248],\n",
            "        ...,\n",
            "        [  0,   0,   0,  ...,   5,   1,  12],\n",
            "        [  0,   0,   0,  ...,  27,  92,   8],\n",
            "        [  0,   0,   0,  ...,   1,   2, 488]])\n",
            "Sentiments: \n",
            " tensor([1, 1, 0, 0, 1, 1, 1, 0, 0, 0, 0, 0, 1, 1, 1, 1, 1, 1, 0, 0, 1, 0, 1, 1,\n",
            "        1, 0, 1, 1, 0, 1, 0, 0, 1, 0, 0, 1, 1, 1, 1, 1, 0, 0, 1, 1, 1, 1, 1, 1,\n",
            "        0, 0])\n"
          ],
          "name": "stdout"
        }
      ]
    },
    {
      "cell_type": "markdown",
      "metadata": {
        "id": "RXrEAFw_9nQx"
      },
      "source": [
        "*We need to add an embedding layer because there are less words in our vocabulary. It is massively inefficient to one-hot encode that many classes. So, instead of one-hot encoding, we can have an embedding layer and use that layer as a lookup table. You could train an embedding layer using Word2Vec, then load it here. But, it's fine to just make a new layer, using it for only dimensionality reduction, and let the network learn the weights*"
      ]
    },
    {
      "cell_type": "markdown",
      "metadata": {
        "id": "nXubVNAY5dD1"
      },
      "source": [
        "**9. Model Designing**"
      ]
    },
    {
      "cell_type": "code",
      "metadata": {
        "id": "LlrODA6ghVrj"
      },
      "source": [
        "from torch import nn\n",
        "\n",
        "class SentimentLSTM(nn.Module):\n",
        "    \n",
        "    def __init__(self, n_vocab, n_embed, n_hidden, n_output, n_layers, drop_p = 0.5):\n",
        "        super().__init__()\n",
        "        # params: \"n_\" means dimension\n",
        "        self.n_vocab = n_vocab     # number of unique words in vocabulary\n",
        "        self.n_layers = n_layers   # number of LSTM layers \n",
        "        self.n_hidden = n_hidden   # number of hidden nodes in LSTM\n",
        "        \n",
        "        self.embedding = nn.Embedding(n_vocab, n_embed)\n",
        "        self.lstm = nn.LSTM(n_embed, n_hidden, n_layers, batch_first = True, dropout = drop_p)\n",
        "        self.dropout = nn.Dropout(drop_p)\n",
        "        self.fc = nn.Linear(n_hidden, n_output)\n",
        "        self.sigmoid = nn.Sigmoid()\n",
        "        \n",
        "        \n",
        "    def forward (self, input_words, h):\n",
        "        batch_size = input_words.size(0)                          # INPUT   :  (batch_size, seq_length)\n",
        "        embedded_words = self.embedding(input_words)    # (batch_size, seq_length, n_embed)\n",
        "        lstm_out, h = self.lstm(embedded_words)         # (batch_size, seq_length, n_hidden)\n",
        "        lstm_out = self.dropout(lstm_out)\n",
        "        lstm_out = lstm_out.contiguous().view(-1, self.n_hidden) # (batch_size*seq_length, n_hidden)\n",
        "        fc_out = self.fc(lstm_out)                      # (batch_size*seq_length, n_output)\n",
        "        sigmoid_out = self.sigmoid(fc_out)              # (batch_size*seq_length, n_output)\n",
        "        sigmoid_out = sigmoid_out.view(batch_size, -1)  # (batch_size, seq_length*n_output)\n",
        "        \n",
        "        # extract the output of ONLY the LAST output of the LAST element of the sequence\n",
        "        sigmoid_last = sigmoid_out[:, -1]               # (batch_size, 1)\n",
        "        \n",
        "        return sigmoid_last, h\n",
        "    \n",
        "    \n",
        "    def init_hidden (self, batch_size):  # initialize hidden weights (h,c) to 0\n",
        "        \n",
        "        device = \"cuda\" if torch.cuda.is_available() else \"cpu\"\n",
        "        weights = next(self.parameters()).data\n",
        "        h = (weights.new(self.n_layers, batch_size, self.n_hidden).zero_().to(device),\n",
        "             weights.new(self.n_layers, batch_size, self.n_hidden).zero_().to(device))\n",
        "        \n",
        "        return h"
      ],
      "execution_count": 32,
      "outputs": []
    },
    {
      "cell_type": "code",
      "metadata": {
        "colab": {
          "base_uri": "https://localhost:8080/"
        },
        "id": "6kP8YfpGhcS3",
        "outputId": "fe101e9b-e6d3-4896-97e0-644abc3c2595"
      },
      "source": [
        "n_vocab = len(vocab)+1\n",
        "n_embed = 100\n",
        "n_hidden = 32\n",
        "n_output = 1   # 1 (\"positive\") or 0 (\"negative\")\n",
        "n_layers = 2\n",
        "\n",
        "net = SentimentLSTM(n_vocab, n_embed, n_hidden, n_output, n_layers)\n",
        "print(net)"
      ],
      "execution_count": 33,
      "outputs": [
        {
          "output_type": "stream",
          "text": [
            "SentimentLSTM(\n",
            "  (embedding): Embedding(1001, 100)\n",
            "  (lstm): LSTM(100, 32, num_layers=2, batch_first=True, dropout=0.5)\n",
            "  (dropout): Dropout(p=0.5, inplace=False)\n",
            "  (fc): Linear(in_features=32, out_features=1, bias=True)\n",
            "  (sigmoid): Sigmoid()\n",
            ")\n"
          ],
          "name": "stdout"
        }
      ]
    },
    {
      "cell_type": "markdown",
      "metadata": {
        "id": "jiQeg-wa5iff"
      },
      "source": [
        "**10. Training (Calculate training lose and training accuracy)**"
      ]
    },
    {
      "cell_type": "code",
      "metadata": {
        "colab": {
          "base_uri": "https://localhost:8080/"
        },
        "id": "wMgNgi2thfKj",
        "outputId": "7abf9edb-34a9-4b29-ec66-916ad28c35bc"
      },
      "source": [
        "criterion = nn.BCELoss()\n",
        "optimizer = torch.optim.Adam(net.parameters(), lr = 0.05)\n",
        "\n",
        "\n",
        "print_every = 50\n",
        "step = 0\n",
        "n_epochs = 5\n",
        "clip = 5  \n",
        "device = 'cuda' if torch.cuda.is_available() else 'cpu'\n",
        "train_loss=[]\n",
        "train_acc=[]\n",
        "\n",
        "def acc(pred,label):\n",
        "    pred = torch.round(pred.squeeze())\n",
        "    return torch.sum(pred == label.squeeze()).item()\n",
        "\n",
        "for epoch in range(n_epochs):\n",
        "    h = net.init_hidden(batch_size)\n",
        "    for inputs, labels in train_loader:\n",
        "        step += 1\n",
        "        inputs, labels = inputs.to(device), labels.to(device)\n",
        "        \n",
        "        # making requires_grad = False for the latest set of h\n",
        "        h = tuple([each.data for each in h])   \n",
        "        \n",
        "        net.zero_grad()\n",
        "        output, h = net(inputs, h)\n",
        "\n",
        "\n",
        "        loss = criterion(output.squeeze(), labels.float())\n",
        "        loss.backward()\n",
        "        accuracy = acc(output,labels)\n",
        "\n",
        "        nn.utils.clip_grad_norm(net.parameters(), clip)\n",
        "        optimizer.step()\n",
        "\n",
        "        \n",
        "        if (step % print_every) == 0:\n",
        "          lossval=loss.item()\n",
        "          accval=accuracy         \n",
        "\n",
        "          print(\"Epoch: {}/{}\".format((epoch+1), n_epochs),\n",
        "                \"Step: {}\".format(step),\n",
        "                \"Loss: {:.4f}\".format(lossval),\n",
        "                \"Accuracy: {:.4f}\".format(accval/batch_size)\n",
        "                )\n",
        "\n",
        "          train_loss.append(lossval)\n",
        "          train_acc.append(accval)\n",
        "\n",
        "          net.train()"
      ],
      "execution_count": 34,
      "outputs": [
        {
          "output_type": "stream",
          "text": [
            "/usr/local/lib/python3.7/dist-packages/ipykernel_launcher.py:34: UserWarning: torch.nn.utils.clip_grad_norm is now deprecated in favor of torch.nn.utils.clip_grad_norm_.\n"
          ],
          "name": "stderr"
        },
        {
          "output_type": "stream",
          "text": [
            "Epoch: 1/5 Step: 50 Loss: 0.7277 Accuracy: 0.5000\n",
            "Epoch: 1/5 Step: 100 Loss: 0.6798 Accuracy: 0.6000\n",
            "Epoch: 1/5 Step: 150 Loss: 0.7086 Accuracy: 0.5400\n",
            "Epoch: 1/5 Step: 200 Loss: 0.7826 Accuracy: 0.4600\n",
            "Epoch: 1/5 Step: 250 Loss: 0.7206 Accuracy: 0.5000\n",
            "Epoch: 1/5 Step: 300 Loss: 0.7071 Accuracy: 0.5800\n",
            "Epoch: 1/5 Step: 350 Loss: 0.7016 Accuracy: 0.5200\n",
            "Epoch: 1/5 Step: 400 Loss: 0.6890 Accuracy: 0.4800\n",
            "Epoch: 1/5 Step: 450 Loss: 0.6512 Accuracy: 0.5800\n",
            "Epoch: 1/5 Step: 500 Loss: 0.6289 Accuracy: 0.7400\n",
            "Epoch: 1/5 Step: 550 Loss: 0.6420 Accuracy: 0.6400\n",
            "Epoch: 1/5 Step: 600 Loss: 0.6898 Accuracy: 0.5800\n",
            "Epoch: 1/5 Step: 650 Loss: 0.7244 Accuracy: 0.5200\n",
            "Epoch: 1/5 Step: 700 Loss: 0.6406 Accuracy: 0.5400\n",
            "Epoch: 1/5 Step: 750 Loss: 0.6814 Accuracy: 0.5800\n",
            "Epoch: 2/5 Step: 800 Loss: 0.6437 Accuracy: 0.6000\n",
            "Epoch: 2/5 Step: 850 Loss: 0.7201 Accuracy: 0.4200\n",
            "Epoch: 2/5 Step: 900 Loss: 0.7302 Accuracy: 0.4800\n",
            "Epoch: 2/5 Step: 950 Loss: 0.7151 Accuracy: 0.4600\n",
            "Epoch: 2/5 Step: 1000 Loss: 0.6746 Accuracy: 0.5600\n",
            "Epoch: 2/5 Step: 1050 Loss: 0.7047 Accuracy: 0.4800\n",
            "Epoch: 2/5 Step: 1100 Loss: 0.7097 Accuracy: 0.5200\n",
            "Epoch: 2/5 Step: 1150 Loss: 0.7567 Accuracy: 0.3600\n",
            "Epoch: 2/5 Step: 1200 Loss: 0.6921 Accuracy: 0.5600\n",
            "Epoch: 2/5 Step: 1250 Loss: 0.7155 Accuracy: 0.4800\n",
            "Epoch: 2/5 Step: 1300 Loss: 0.7058 Accuracy: 0.5600\n",
            "Epoch: 2/5 Step: 1350 Loss: 0.6710 Accuracy: 0.6000\n",
            "Epoch: 2/5 Step: 1400 Loss: 0.7109 Accuracy: 0.5200\n",
            "Epoch: 2/5 Step: 1450 Loss: 0.7570 Accuracy: 0.4200\n",
            "Epoch: 2/5 Step: 1500 Loss: 0.7019 Accuracy: 0.4600\n",
            "Epoch: 3/5 Step: 1550 Loss: 0.7058 Accuracy: 0.4400\n",
            "Epoch: 3/5 Step: 1600 Loss: 0.7063 Accuracy: 0.4000\n",
            "Epoch: 3/5 Step: 1650 Loss: 0.6789 Accuracy: 0.6000\n",
            "Epoch: 3/5 Step: 1700 Loss: 0.7023 Accuracy: 0.5200\n",
            "Epoch: 3/5 Step: 1750 Loss: 0.7066 Accuracy: 0.4800\n",
            "Epoch: 3/5 Step: 1800 Loss: 0.7161 Accuracy: 0.4200\n",
            "Epoch: 3/5 Step: 1850 Loss: 0.6676 Accuracy: 0.6600\n",
            "Epoch: 3/5 Step: 1900 Loss: 0.6790 Accuracy: 0.6200\n",
            "Epoch: 3/5 Step: 1950 Loss: 0.7009 Accuracy: 0.4600\n",
            "Epoch: 3/5 Step: 2000 Loss: 0.6783 Accuracy: 0.4800\n",
            "Epoch: 3/5 Step: 2050 Loss: 0.7000 Accuracy: 0.5000\n",
            "Epoch: 3/5 Step: 2100 Loss: 0.7030 Accuracy: 0.5000\n",
            "Epoch: 3/5 Step: 2150 Loss: 0.6806 Accuracy: 0.6000\n",
            "Epoch: 3/5 Step: 2200 Loss: 0.6690 Accuracy: 0.5600\n",
            "Epoch: 3/5 Step: 2250 Loss: 0.6766 Accuracy: 0.5000\n",
            "Epoch: 4/5 Step: 2300 Loss: 0.6773 Accuracy: 0.6600\n",
            "Epoch: 4/5 Step: 2350 Loss: 0.6970 Accuracy: 0.5600\n",
            "Epoch: 4/5 Step: 2400 Loss: 0.6859 Accuracy: 0.5000\n",
            "Epoch: 4/5 Step: 2450 Loss: 0.6986 Accuracy: 0.5600\n",
            "Epoch: 4/5 Step: 2500 Loss: 0.6809 Accuracy: 0.6000\n",
            "Epoch: 4/5 Step: 2550 Loss: 0.6635 Accuracy: 0.5600\n",
            "Epoch: 4/5 Step: 2600 Loss: 0.6972 Accuracy: 0.5600\n",
            "Epoch: 4/5 Step: 2650 Loss: 0.6538 Accuracy: 0.6000\n",
            "Epoch: 4/5 Step: 2700 Loss: 0.6887 Accuracy: 0.5200\n",
            "Epoch: 4/5 Step: 2750 Loss: 0.6862 Accuracy: 0.5600\n",
            "Epoch: 4/5 Step: 2800 Loss: 0.6948 Accuracy: 0.5000\n",
            "Epoch: 4/5 Step: 2850 Loss: 0.6814 Accuracy: 0.5600\n",
            "Epoch: 4/5 Step: 2900 Loss: 0.6630 Accuracy: 0.6400\n",
            "Epoch: 4/5 Step: 2950 Loss: 0.6522 Accuracy: 0.6200\n",
            "Epoch: 4/5 Step: 3000 Loss: 0.6909 Accuracy: 0.5000\n",
            "Epoch: 5/5 Step: 3050 Loss: 0.6902 Accuracy: 0.5600\n",
            "Epoch: 5/5 Step: 3100 Loss: 0.6960 Accuracy: 0.4600\n",
            "Epoch: 5/5 Step: 3150 Loss: 0.7281 Accuracy: 0.4600\n",
            "Epoch: 5/5 Step: 3200 Loss: 0.6728 Accuracy: 0.5600\n",
            "Epoch: 5/5 Step: 3250 Loss: 0.6911 Accuracy: 0.6400\n",
            "Epoch: 5/5 Step: 3300 Loss: 0.6812 Accuracy: 0.5000\n",
            "Epoch: 5/5 Step: 3350 Loss: 0.7097 Accuracy: 0.4600\n",
            "Epoch: 5/5 Step: 3400 Loss: 0.6740 Accuracy: 0.7000\n",
            "Epoch: 5/5 Step: 3450 Loss: 0.7221 Accuracy: 0.5400\n",
            "Epoch: 5/5 Step: 3500 Loss: 0.7015 Accuracy: 0.4400\n",
            "Epoch: 5/5 Step: 3550 Loss: 0.6921 Accuracy: 0.5200\n",
            "Epoch: 5/5 Step: 3600 Loss: 0.6831 Accuracy: 0.4800\n",
            "Epoch: 5/5 Step: 3650 Loss: 0.6998 Accuracy: 0.5200\n",
            "Epoch: 5/5 Step: 3700 Loss: 0.7070 Accuracy: 0.5400\n",
            "Epoch: 5/5 Step: 3750 Loss: 0.6687 Accuracy: 0.5400\n"
          ],
          "name": "stdout"
        }
      ]
    },
    {
      "cell_type": "code",
      "metadata": {
        "id": "Bvw-1bAuhkIW"
      },
      "source": [
        "torch.save(net.state_dict(), \"net_params.pt\")"
      ],
      "execution_count": 35,
      "outputs": []
    },
    {
      "cell_type": "code",
      "metadata": {
        "id": "14CqGZA857Ep"
      },
      "source": [
        "epoch_loss=[]\n",
        "temp=[]\n",
        "for i in range(0,len(train_loss)):\n",
        "  temp.append(train_loss[i])\n",
        "  i +=1\n",
        "  if (i % (len(train_loss)/n_epochs)==0):\n",
        "    epoch_loss.append(np.mean(temp))\n",
        "    temp=[]\n",
        "\n",
        "epoch_acc=[]\n",
        "temp=[]\n",
        "for i in range(0,len(train_acc)):\n",
        "  temp.append(train_acc[i]/batch_size)\n",
        "  i +=1\n",
        "  if (i % (len(train_acc)/n_epochs)==0):\n",
        "    epoch_acc.append(np.mean(temp))\n",
        "    temp=[]"
      ],
      "execution_count": 36,
      "outputs": []
    },
    {
      "cell_type": "code",
      "metadata": {
        "colab": {
          "base_uri": "https://localhost:8080/"
        },
        "id": "pf6T96C_5-6I",
        "outputId": "4a16f054-4728-4036-d5f9-518094eff485"
      },
      "source": [
        "epoch_loss, epoch_acc"
      ],
      "execution_count": 37,
      "outputs": [
        {
          "output_type": "execute_result",
          "data": {
            "text/plain": [
              "([0.6916708389918009,\n",
              "  0.7072675585746765,\n",
              "  0.691397484143575,\n",
              "  0.6807681759198506,\n",
              "  0.6944839119911194],\n",
              " [0.5573333333333333, 0.49866666666666665, 0.516, 0.5666666666666668, 0.528])"
            ]
          },
          "metadata": {
            "tags": []
          },
          "execution_count": 37
        }
      ]
    },
    {
      "cell_type": "code",
      "metadata": {
        "colab": {
          "base_uri": "https://localhost:8080/",
          "height": 226
        },
        "id": "aaOfzE4N6C6s",
        "outputId": "1c228680-eab9-4027-ddae-c508a14c189d"
      },
      "source": [
        "fig = plt.figure(figsize = (20, 6))\n",
        "plt.subplot(1, 2, 1)\n",
        "#plt.plot(train_acc, label='Train Acc')\n",
        "plt.plot(epoch_acc, label='Train Acc')\n",
        "plt.title(\"Accuracy\")\n",
        "plt.legend()\n",
        "    \n",
        "plt.subplot(1, 2, 2)\n",
        "#plt.plot(train_loss, label='Train loss')\n",
        "plt.plot(epoch_loss, label='Train loss')\n",
        "plt.title(\"Loss\")\n",
        "plt.legend()\n",
        "\n",
        "plt.show()"
      ],
      "execution_count": 52,
      "outputs": [
        {
          "output_type": "display_data",
          "data": {
            "image/png": "[encoded data removed]",
            "text/plain": [
              "<Figure size 1440x432 with 2 Axes>"
            ]
          },
          "metadata": {
            "tags": []
          }
        }
      ]
    },
    {
      "cell_type": "markdown",
      "metadata": {
        "id": "0Gsia8me7Wsl"
      },
      "source": [
        "**Test Accuracy and Test Loss**"
      ]
    },
    {
      "cell_type": "code",
      "metadata": {
        "colab": {
          "base_uri": "https://localhost:8080/"
        },
        "id": "Fyw-52_q6Gcg",
        "outputId": "863ebebe-2b3b-48a3-d537-0237f445ca71"
      },
      "source": [
        "net.eval()\n",
        "test_losses = []\n",
        "num_correct = 0\n",
        "test_h = net.init_hidden(batch_size)\n",
        "\n",
        "for test_inputs, test_labels in test_loader:\n",
        "    \n",
        "    test_inputs, test_labels = test_inputs.to(device), test_labels.to(device)\n",
        "    test_h = tuple([each.data for each in test_h])\n",
        "\n",
        "    test_output, test_h = net(test_inputs, test_h)\n",
        "    test_loss = criterion(test_output.squeeze(), test_labels.float())\n",
        "    test_losses.append(test_loss.item())\n",
        "    \n",
        "    preds = torch.round(test_output.squeeze())\n",
        "    correct_tensor = preds.eq(labels.float().view_as(preds))\n",
        "    correct = np.squeeze(correct_tensor.numpy())\n",
        "    num_correct += np.sum(correct)\n",
        "    \n",
        "print(\"Test Loss: {:.4f}\".format(np.mean(test_losses)))\n",
        "print(\"Test Accuracy: {:.2f}\".format(num_correct/len(test_loader.dataset)))\n"
      ],
      "execution_count": 39,
      "outputs": [
        {
          "output_type": "stream",
          "text": [
            "Test Loss: 0.6861\n",
            "Test Accuracy: 0.49\n"
          ],
          "name": "stdout"
        }
      ]
    },
    {
      "cell_type": "markdown",
      "metadata": {
        "id": "Jdh2h5WG7dN_"
      },
      "source": [
        "**Prediction & Inference**"
      ]
    },
    {
      "cell_type": "code",
      "metadata": {
        "id": "E8vvOk2Y6Nwd"
      },
      "source": [
        "def predict_text(text):\n",
        "        word_seq = np.array([vocab[preprocess_string(word)] for word in text.split() \n",
        "                         if preprocess_string(word) in vocab.keys()])\n",
        "        word_seq = np.expand_dims(word_seq,axis=0)\n",
        "        pad =  torch.from_numpy(padding(word_seq,500))\n",
        "        inputs = pad.to(device)\n",
        "        batch_size = 1\n",
        "        h = net.init_hidden(batch_size)\n",
        "        h = tuple([each.data for each in h])\n",
        "        output, h = net(inputs, h)\n",
        "        return(output.item())"
      ],
      "execution_count": 40,
      "outputs": []
    },
    {
      "cell_type": "code",
      "metadata": {
        "id": "LnLCNOYV6hb3"
      },
      "source": [
        "def results(df, index):\n",
        "  sentiment=df.sentiment[index]\n",
        "  review=df.review[index]\n",
        "  prob=predict_text(review)\n",
        "  prediction = \"positive\" if prob > 0.5 else \"negative\"\n",
        "  print(\"Review:\\n\",review)\n",
        "  print(\"Actual Sentiment:\", sentiment)\n",
        "  print(\"Predicted Sentiment:\", prediction)"
      ],
      "execution_count": 45,
      "outputs": []
    },
    {
      "cell_type": "code",
      "metadata": {
        "colab": {
          "base_uri": "https://localhost:8080/"
        },
        "id": "itYCcIEf6mCn",
        "outputId": "752bf196-ec88-4600-9542-6ba556681473"
      },
      "source": [
        "random=np.random.randint(0, 50001)\n",
        "results(df, random)"
      ],
      "execution_count": 46,
      "outputs": [
        {
          "output_type": "stream",
          "text": [
            "Review:\n",
            " This documentary attempts comedy, but never quite gets there for me. Camp? Ehn, maybe. The more apt word that everyone will agree on -- and have a hard time avoiding in any review -- is kitsch. It dripped kitsch. It was as if the film makers had worried their viewers would take the movie too seriously, and so they bent over backwards to insert kitsch and proclaim, \"We're joking around here! See???\"<br /><br />In short, I felt it was trying too hard. For example, the sock puppets that introduced each scene were (to me) annoying when I'm sure they were meant to be amusing -- or at least (ahem) kitsch-ey.<br /><br />Do not, however, avoid this movie based on my complaints. Just be ready to revel in kitsch rather than having it thrust at you unprepared. If you're interested in lighthearted fare, you could do far, far worse. At the very least, the facts surrounding the rise and fall of the Bakers make this interesting and worth a view. At best, gaggles of like minded kitsch lovers will hoot and holler over choice bits throughout the film.\n",
            "Actual Sentiment: negative\n",
            "Predicted Sentiment: positive\n"
          ],
          "name": "stdout"
        }
      ]
    },
    {
      "cell_type": "code",
      "metadata": {
        "colab": {
          "base_uri": "https://localhost:8080/"
        },
        "id": "jtskfh1C6wf8",
        "outputId": "6d638952-d8b2-4801-a196-5bad8a9b1454"
      },
      "source": [
        "random=np.random.randint(0, 50001)\n",
        "results(df, random)"
      ],
      "execution_count": 47,
      "outputs": [
        {
          "output_type": "stream",
          "text": [
            "Review:\n",
            " B.B. Thornton proves to be a great actor in this little seen movie. Thornton really gets into his characters--literally. I caught this on cable one night and enjoyed it. Too bad it was released nationwide in theaters the same year as \"Fear and Loathing\" and \"Half-Baked.\"\n",
            "Actual Sentiment: positive\n",
            "Predicted Sentiment: positive\n"
          ],
          "name": "stdout"
        }
      ]
    },
    {
      "cell_type": "code",
      "metadata": {
        "colab": {
          "base_uri": "https://localhost:8080/"
        },
        "id": "N092AYLj7GC_",
        "outputId": "ab8f83d9-46c0-4c6f-e0e3-f2591747be98"
      },
      "source": [
        "random=np.random.randint(0, 50001)\n",
        "results(df, random)"
      ],
      "execution_count": 48,
      "outputs": [
        {
          "output_type": "stream",
          "text": [
            "Review:\n",
            " One thing I have noticed about British horror movies from the 1970s is that they don`t hold up to repeated viewing THEATRE OF BLOOD is a case in point as are all those Amicus anthology movies . Add THE BEAST IN THE CELLAR to the list <br /><br />Much of the drama of this movie revolves around the build up of a plot revelation at the end . Once you know what the revelation is this becomes a rather flat film . It does open with a fairly good hook but after that we`re treated to long boring sequences of two old ladies making small talk . Correct me if I`m wrong but how many people watch a horror movie expecting a couple of old ladies making small talk ? The only sort of interest to be found in THE BEAST IN THE CELLAR is the anti-smoking stance . Some people have mentioned that this is an anti-war or anti-military film but watch carefully and you`ll see that everytime a squaddie lights up for a fly puff he gets killed . Rather strange considering attitudes to smoking weren`t nearly so hysterical as they are nowadays\n",
            "Actual Sentiment: negative\n",
            "Predicted Sentiment: positive\n"
          ],
          "name": "stdout"
        }
      ]
    },
    {
      "cell_type": "code",
      "metadata": {
        "colab": {
          "base_uri": "https://localhost:8080/"
        },
        "id": "QeARP7EL7I1I",
        "outputId": "fb18d078-0a59-4cc2-b3fb-3cfdd10a2bb8"
      },
      "source": [
        "random=np.random.randint(0, 50001)\n",
        "results(df, random)"
      ],
      "execution_count": 49,
      "outputs": [
        {
          "output_type": "stream",
          "text": [
            "Review:\n",
            " This movie has recieved horrible ratings from just about everyone who has voted here but i am here to say if you like movies like Dude Wheres my Car and Dumb and Dumber this movie is for you. If your into movies like Citizen Kane and Casablanca id have to sugest you in a different angle. Yet i still love this movie and everything about it even if it is kind of \"kiddy\" this is one of the few movies me and my freinds have been able to keep watching over the years and quote whenever possible. GREAT MOVIE. This movie should the AFIs number 1 because its so friggin' high class. The only problem with this movie is you may have trouble seeing it because it was a made for tv movie on a channel that no longer exists. So i dont know how to get this movie, id like to buy it for dvd but i cant find it anywhere. I still have it taped from when it was first on, you can come over if you want and watch it bute i might be sleeping. this movie rocks and thats basicly all you need to know.\n",
            "Actual Sentiment: positive\n",
            "Predicted Sentiment: positive\n"
          ],
          "name": "stdout"
        }
      ]
    },
    {
      "cell_type": "code",
      "metadata": {
        "id": "aM4A-_wB7KpC"
      },
      "source": [
        ""
      ],
      "execution_count": null,
      "outputs": []
    }
  ]
}